{
 "cells": [
  {
   "cell_type": "code",
   "execution_count": 17,
   "metadata": {},
   "outputs": [],
   "source": [
    "from google.cloud import storage\n",
    "import os\n",
    "import pandas as pd \n",
    "import datalab.storage as gcs\n",
    "from google.cloud import bigquery\n",
    "import sys \n",
    "\n",
    "API_KEY_PATH = \"/Users/jideofor/Documents/cs397/Patents-Research-abd8b4aaf0a8.json\"\n",
    "os.environ[\"GOOGLE_APPLICATION_CREDENTIALS\"] = API_KEY_PATH\n",
    "PROJECT_ID = \"patents-research-275923\"\n",
    "BUCKET_NAME = \"patents-research\"\n",
    "\n",
    "def upload_df_toGoogle(data_frame):\n",
    "    \"\"\"Uploads a file to the bucket.\"\"\"\n",
    "    # bucket_name = \"your-bucket-name\"\n",
    "    # source_file_name = \"local/path/to/file\"\n",
    "    # destination_blob_name = \"storage-object-name\"\n",
    "    \n",
    "    # create bucket if it does not exists\n",
    "    if not STORAGE_CLIENT.lookup_bucket(BUCKET_NAME):\n",
    "        STORAGE_CLIENT.create_bucket(BUCKET_NAME, project=PROJECT_ID)\n",
    "\n",
    "    # upload to google cloud\n",
    "    storage_client = storage.Client()\n",
    "    bucket = storage_client.bucket(BUCKET_NAME)\n",
    "    blob = bucket.blob(\"patent_research/data.tsv\")\n",
    "\n",
    "    blob.upload_from_string(data_frame.to_csv(sep='\\t'),'text/tab-separated-values')\n",
    "\n",
    "    print(\"File data_frame uploaded to patent_research/data.tsv\")"
   ]
  },
  {
   "cell_type": "markdown",
   "metadata": {},
   "source": [
    "## Query to get majority of data"
   ]
  },
  {
   "cell_type": "code",
   "execution_count": null,
   "metadata": {},
   "outputs": [],
   "source": [
    "QUERY = \"\"\"\n",
    "SELECT app.patent_id as patent_id, app.date as publication_date, filterData.bkwdCitations_5, filterData.fwrdCitations_5, patent.title, patent.abstract as abstract_text, summary.text as summary_text\n",
    "FROM\n",
    "  `patents-public-data.patentsview.brf_sum_text` as summary,\n",
    "  `patents-public-data.patentsview.patent` as patent,\n",
    "  `patents-public-data.patentsview.application` as app,\n",
    "  (SELECT DISTINCT cpc.patent_id, IFNULL(citation_5.bkwdCitations_5, 0) as bkwdCitations_5, IFNULL(citation_5.fwrdCitations_5, 0) as fwrdCitations_5\n",
    "  FROM\n",
    "    `patents-public-data.patentsview.cpc_current` AS cpc\n",
    "    LEFT JOIN\n",
    "    (SELECT  b.patent_id, b.bkwdCitations_5, f.fwrdCitations_5\n",
    "      FROM \n",
    "\n",
    "        (SELECT \n",
    "          cited.patent_id,\n",
    "          COUNT(*) as fwrdCitations_5\n",
    "          FROM \n",
    "          `patents-public-data.patentsview.uspatentcitation` AS cited,\n",
    "          `patents-public-data.patentsview.application` AS apps\n",
    "        WHERE\n",
    "          apps.country = 'US'\n",
    "          AND cited.patent_id = apps.patent_id \n",
    "          AND cited.date >= apps.date AND SAFE_CAST(cited.date AS DATE) <= DATE_ADD(SAFE_CAST(apps.date AS DATE), INTERVAL 5 YEAR) -- get in 5year interval \n",
    "         GROUP BY \n",
    "         cited.patent_id) AS f,\n",
    "\n",
    "       (SELECT \n",
    "          cited.patent_id,\n",
    "          COUNT(*) as bkwdCitations_5\n",
    "          FROM \n",
    "          `patents-public-data.patentsview.uspatentcitation` AS cited,\n",
    "          `patents-public-data.patentsview.application` AS apps\n",
    "        WHERE\n",
    "          apps.country = 'US'\n",
    "          AND cited.patent_id = apps.patent_id \n",
    "          AND cited.date < apps.date AND SAFE_CAST(cited.date AS DATE) >= DATE_SUB(SAFE_CAST(apps.date AS DATE), INTERVAL 5 YEAR) -- get in 5year interval \n",
    "         GROUP BY \n",
    "         cited.patent_id) AS b\n",
    "      WHERE\n",
    "      b.patent_id = f.patent_id AND b.bkwdCitations_5 IS NOT NULL AND f.fwrdCitations_5 IS NOT NULL) AS citation_5 \n",
    "      ON cpc.patent_id=citation_5.patent_id\n",
    "      WHERE\n",
    "       (cpc.subsection_id IN ('C05', 'C07', 'C08', 'C09', 'C11', 'C12', 'C13', 'C25', 'C40')\n",
    "        OR cpc.group_id in ('A01G', 'A01H', 'A61K', 'A61P', 'A61Q', 'B01F', 'B01J', 'B81B', 'B82B', 'B82Y','G01N', 'G16H')))\n",
    "  as filterData\n",
    "  WHERE\n",
    "  app.patent_id = filterData.patent_id AND summary.patent_id = app.patent_id AND app.patent_id = patent.id \n",
    "\"\"\""
   ]
  },
  {
   "cell_type": "markdown",
   "metadata": {},
   "source": [
    "## Query to get claims data"
   ]
  },
  {
   "cell_type": "code",
   "execution_count": 18,
   "metadata": {},
   "outputs": [],
   "source": [
    "QUERY_CLAIMS = \"\"\"\n",
    "SELECT filteredIDs.patent_id AS patent_id, CAST(claim.sequence as INT64)  as claim_number, claim.text as claim_text\n",
    "FROM\n",
    "  `patents-public-data.patentsview.claim` AS claim,\n",
    "  (SELECT DISTINCT patent.id as patent_id\n",
    "  FROM\n",
    "    `patents-public-data.patentsview.patent` as patent,\n",
    "    `patents-public-data.patentsview.cpc_current` AS cpc\n",
    "  WHERE\n",
    "    patent.id=cpc.patent_id\n",
    "    AND (cpc.subsection_id IN ('C05', 'C07', 'C08', 'C09', 'C11', 'C12', 'C13', 'C25', 'C40')\n",
    "          OR cpc.group_id in ('A01G', 'A01H', 'A61K', 'A61P', 'A61Q', 'B01F', 'B01J', 'B81B', 'B82B', 'B82Y','G01N', 'G16H'))) AS filteredIDs\n",
    "WHERE\n",
    "  filteredIDs.patent_id = claim.patent_id\n",
    "ORDER BY\n",
    "  patent_id,\n",
    "  claim_number\n",
    "\"\"\""
   ]
  },
  {
   "cell_type": "code",
   "execution_count": 20,
   "metadata": {},
   "outputs": [
    {
     "name": "stderr",
     "output_type": "stream",
     "text": [
      "Downloading: 100%|██████████| 17144505/17144505 [19:36<00:00, 14568.01rows/s]\n"
     ]
    }
   ],
   "source": [
    "df_claims = pd.read_gbq(QUERY_CLAIMS, project_id=PROJECT_ID, dialect='standard', progress_bar_type='tqdm')"
   ]
  },
  {
   "cell_type": "code",
   "execution_count": 28,
   "metadata": {},
   "outputs": [],
   "source": [
    "df_claims = df_claims.set_index('patent_id')"
   ]
  },
  {
   "cell_type": "code",
   "execution_count": 64,
   "metadata": {},
   "outputs": [],
   "source": [
    "#https://www.shanelynn.ie/select-pandas-dataframe-rows-and-columns-using-iloc-loc-and-ix/\n",
    "def get_claim_blob(df,id):\n",
    "    base = df.loc[[id]]\n",
    "    text = \"\"\n",
    "    for _,row in base.iterrows():\n",
    "        start = \"<start -claim{}>\".format(row['claim_number'])\n",
    "        end = \"<end -claim{}>\".format(row['claim_number'])\n",
    "        text += \"{}{}{}\".format(start,row['claim_text'], end)\n",
    "    return text\n",
    "        \n",
    "def get_claim_df(base_df):\n",
    "    \n",
    "    claim_df = pd.DataFrame(columns=['patent_id', 'claims'])\n",
    "    patentIds = set(base_df.index)\n",
    "    n = len(patentIds)\n",
    "    \n",
    "    i=0\n",
    "    for id in patentIds:\n",
    "        claim_df.loc[i]=[id,get_claim_blob(base_df,id)]\n",
    "        i+=1\n",
    "        print(\"Progress {}/{}\".format(i,n), end=\"\\r\", flush=True)\n",
    "    return claim_df\n"
   ]
  },
  {
   "cell_type": "code",
   "execution_count": null,
   "metadata": {},
   "outputs": [
    {
     "name": "stdout",
     "output_type": "stream",
     "text": [
      "Progress 442330/1104414\r"
     ]
    }
   ],
   "source": [
    "merged_claims_df = get_claim_df(df_claims)"
   ]
  },
  {
   "cell_type": "code",
   "execution_count": null,
   "metadata": {},
   "outputs": [],
   "source": [
    "# save just in case\n",
    "df.to_pickle(\"~/Desktop/claim.pickle\",compression=\"gzip\")  # where to save it, usually as a .pkl\n",
    "# save to bigquery\n",
    "pd.to_gbq(merged_claims_df, \"cleaned_claims\", project_id =PROJECT_ID)"
   ]
  },
  {
   "cell_type": "markdown",
   "metadata": {},
   "source": [
    "## Get the main db"
   ]
  },
  {
   "cell_type": "code",
   "execution_count": 58,
   "metadata": {},
   "outputs": [],
   "source": [
    "df_main = pd.read_gbq(QUERY, project_id=PROJECT_ID, dialect='standard', progress_bar_type='tqdm')"
   ]
  },
  {
   "cell_type": "markdown",
   "metadata": {},
   "source": [
    "## Merge  the database"
   ]
  },
  {
   "cell_type": "code",
   "execution_count": null,
   "metadata": {},
   "outputs": [],
   "source": [
    "# Merge the two db's\n",
    "full_df = df_claims.set_index('patent_id').join(merged_claims_df, how='inner') \n",
    "# Upload to GoogleCloud\n",
    "upload_df_toGoogle(full_df)\n",
    "\n"
   ]
  }
 ],
 "metadata": {
  "kernelspec": {
   "display_name": "patent-modeling",
   "language": "python",
   "name": "patent-modeling"
  },
  "language_info": {
   "codemirror_mode": {
    "name": "ipython",
    "version": 3
   },
   "file_extension": ".py",
   "mimetype": "text/x-python",
   "name": "python",
   "nbconvert_exporter": "python",
   "pygments_lexer": "ipython3",
   "version": "3.7.3"
  }
 },
 "nbformat": 4,
 "nbformat_minor": 4
}
