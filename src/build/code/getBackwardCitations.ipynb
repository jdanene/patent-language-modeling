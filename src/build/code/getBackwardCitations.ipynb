{
 "cells": [
  {
   "cell_type": "code",
   "execution_count": 1,
   "metadata": {},
   "outputs": [],
   "source": [
    "from google.cloud import storage\n",
    "import os\n",
    "import pandas as pd \n",
    "from google.cloud import bigquery\n",
    "import sys \n",
    "import tempfile\n",
    "PROJECT_ID = \"patents-research-275923\"\n",
    "BUCKET_NAME = \"patents-research\""
   ]
  },
  {
   "cell_type": "code",
   "execution_count": 3,
   "metadata": {},
   "outputs": [],
   "source": [
    "QUERY_CITATION = \"\"\"\n",
    "SELECT filteredIDs.patent_id AS patent_id, citation.citation_id\n",
    "FROM\n",
    "  `patents-public-data.patentsview.uspatentcitation` AS citation,\n",
    "  (SELECT DISTINCT apps.patent_id, apps.date as publication_date\n",
    "  FROM\n",
    "    `patents-public-data.patentsview.application` AS apps,\n",
    "    `patents-public-data.patentsview.cpc_current` AS cpc\n",
    "  WHERE\n",
    "    apps.patent_id=cpc.patent_id\n",
    "    AND (cpc.subsection_id IN ('C05', 'C07', 'C08', 'C09', 'C11', 'C12', 'C13', 'C25', 'C40')\n",
    "          OR cpc.group_id in ('A01G', 'A01H', 'A61K', 'A61P', 'A61Q', 'B01F', 'B01J', 'B81B', 'B82B', 'B82Y','G01N', 'G16H'))) AS filteredIDs\n",
    "WHERE\n",
    "  filteredIDs.patent_id = citation.patent_id AND citation.date < filteredIDs.publication_date\n",
    "ORDER BY\n",
    "  patent_id,\n",
    "  citation.citation_id\n",
    "\"\"\"\n",
    "\n",
    "def load_data_from_file(df, dataset_id = \"patents.backcited\"):\n",
    "    bigquery_client = bigquery.Client()\n",
    "    \n",
    "    \n",
    "    with tempfile.NamedTemporaryFile() as temp:\n",
    "        print(\"creating temp csv at {} \".format(temp.name))\n",
    "        df.to_csv(temp.name, index=False)\n",
    "        print(\"temp csv created\")\n",
    "        \n",
    "        with open(temp.name, 'rb') as source_file:\n",
    "            # This example uses CSV, but you can use other formats.\n",
    "            # See https://cloud.google.com/bigquery/loading-data\n",
    "            job_config = bigquery.LoadJobConfig()\n",
    "            job_config.source_format = 'text/csv'\n",
    "            job_config.autodetect=True\n",
    "            job_config.write_disposition = \"WRITE_TRUNCATE\"\n",
    "            job = bigquery_client.load_table_from_file(source_file, dataset_id, job_config=job_config)\n",
    "\n",
    "            job.result()  # Waits for job to complete\n",
    "\n",
    "    print('Loaded {} rows into {}.'.format(job.output_rows, dataset_id))\n",
    "    \n",
    "    "
   ]
  },
  {
   "cell_type": "code",
   "execution_count": null,
   "metadata": {},
   "outputs": [],
   "source": [
    "df= pd.read_gbq(QUERY_CITATION, project_id=PROJECT_ID, dialect='standard', progress_bar_type='tqdm')"
   ]
  },
  {
   "cell_type": "code",
   "execution_count": null,
   "metadata": {},
   "outputs": [],
   "source": [
    "# get the count\n",
    "dfcount = df.groupby([\"patent_id\"])[\"patent_id\"].count().reset_index(name=\"count\")\n",
    "# combine citations by patent_id into a single string\n",
    "df_ids = df.groupby('patent_id')['citation_id'].apply(' '.join).reset_index(name='citations')"
   ]
  },
  {
   "cell_type": "code",
   "execution_count": null,
   "metadata": {},
   "outputs": [],
   "source": [
    "#merge the two dfs\n",
    "result = pd.concat([dfcount.set_index('patent_id'),df_ids.set_index('patent_id')], axis=1, join='inner')\n",
    "result.reset_index(level=0, inplace=True)\n",
    "\n",
    "#formate with tokens delimiters and combine\n",
    "result['count'] = result['count'].astype(str)\n",
    "result['count'] = '<start -backcitedcount>'+result['count']+'<end -backcitedcount>'\n",
    "result['citations'] = '<start -backcited>'+result['citations']+'<end -backcited>'\n",
    "result['backcited']  = result['count'] + result['citations']\n",
    "result.drop(['count','citations'], axis=1, inplace=True)\n"
   ]
  },
  {
   "cell_type": "code",
   "execution_count": 4,
   "metadata": {},
   "outputs": [
    {
     "ename": "NameError",
     "evalue": "name 'result' is not defined",
     "output_type": "error",
     "traceback": [
      "\u001b[0;31m---------------------------------------------------------------------------\u001b[0m",
      "\u001b[0;31mNameError\u001b[0m                                 Traceback (most recent call last)",
      "\u001b[0;32m<ipython-input-4-e4fa53767669>\u001b[0m in \u001b[0;36m<module>\u001b[0;34m\u001b[0m\n\u001b[0;32m----> 1\u001b[0;31m \u001b[0mload_data_from_file\u001b[0m\u001b[0;34m(\u001b[0m\u001b[0mresult\u001b[0m\u001b[0;34m)\u001b[0m\u001b[0;34m\u001b[0m\u001b[0;34m\u001b[0m\u001b[0m\n\u001b[0m",
      "\u001b[0;31mNameError\u001b[0m: name 'result' is not defined"
     ]
    }
   ],
   "source": [
    "load_data_from_file(result)"
   ]
  },
  {
   "cell_type": "code",
   "execution_count": null,
   "metadata": {},
   "outputs": [],
   "source": []
  }
 ],
 "metadata": {
  "kernelspec": {
   "display_name": "patent-modeling",
   "language": "python",
   "name": "patent-modeling"
  },
  "language_info": {
   "codemirror_mode": {
    "name": "ipython",
    "version": 3
   },
   "file_extension": ".py",
   "mimetype": "text/x-python",
   "name": "python",
   "nbconvert_exporter": "python",
   "pygments_lexer": "ipython3",
   "version": "3.7.3"
  }
 },
 "nbformat": 4,
 "nbformat_minor": 2
}
